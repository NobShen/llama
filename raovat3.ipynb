{
  "nbformat": 4,
  "nbformat_minor": 0,
  "metadata": {
    "colab": {
      "provenance": [],
      "authorship_tag": "ABX9TyNqfBLwNHt4/O87iaS3Myi/",
      "include_colab_link": true
    },
    "kernelspec": {
      "name": "python3",
      "display_name": "Python 3"
    },
    "language_info": {
      "name": "python"
    }
  },
  "cells": [
    {
      "cell_type": "markdown",
      "metadata": {
        "id": "view-in-github",
        "colab_type": "text"
      },
      "source": [
        "<a href=\"https://colab.research.google.com/github/NobShen/llama/blob/main/raovat3.ipynb\" target=\"_parent\"><img src=\"https://colab.research.google.com/assets/colab-badge.svg\" alt=\"Open In Colab\"/></a>"
      ]
    },
    {
      "cell_type": "markdown",
      "source": [
        "start new notebook"
      ],
      "metadata": {
        "id": "4Gfg6Y1lCdly"
      }
    },
    {
      "cell_type": "code",
      "source": [
        "import tensorflow as tf\n",
        "import tensorflow_hub as hub\n",
        "import numpy as np\n",
        "import pandas as pd\n",
        "import requests\n",
        "from bs4 import BeautifulSoup\n",
        "\n",
        "# Load the Universal Sentence Encoder model\n",
        "embed = hub.load(\"https://tfhub.dev/google/universal-sentence-encoder/4\")\n",
        "\n",
        "# Function to encode text in batches\n",
        "def batch_encode_text(texts, batch_size=32):\n",
        "    encoded_vectors = []\n",
        "    num_batches = len(texts) // batch_size + 1\n",
        "\n",
        "    for i in range(num_batches):\n",
        "        start = i * batch_size\n",
        "        end = (i + 1) * batch_size\n",
        "        batch = texts[start:end]\n",
        "\n",
        "        # Encode the batch of text\n",
        "        batch_vectors = embed(batch)\n",
        "        encoded_vectors.extend(batch_vectors.numpy())\n",
        "\n",
        "    return np.array(encoded_vectors)"
      ],
      "metadata": {
        "id": "Id-oiu7jCkEK"
      },
      "execution_count": null,
      "outputs": []
    },
    {
      "cell_type": "markdown",
      "source": [
        "Now load the data from a web page"
      ],
      "metadata": {
        "id": "twssd2hFCs5E"
      }
    },
    {
      "cell_type": "code",
      "source": [
        "\n",
        "# URL of the web page containing the text data (replace with your URL)\n",
        "web_page_url = \"https://mydshbrd.com/LICENSE.txt\"\n",
        "\n",
        "# Specify the user-agent\n",
        "headers = {\"User-Agent\": \"Mozilla/5.0 (Windows; U; Windows NT 6.1; en-US) AppleWebKit/534.20 (KHTML, like Gecko) Chrome/11.0.672.2 Safari/534.20\"}\n",
        "\n",
        "# Send an HTTP GET request to fetch the content with the specified user-agent\n",
        "response = requests.get(web_page_url, headers=headers)\n",
        "# print(response.text)\n",
        "\n",
        "# Parse the HTML content of the web page\n",
        "soup = BeautifulSoup(response.text, \"html.parser\")\n",
        "\n",
        "# Extract the text data from <div> elements (adjust as per your page structure)\n",
        "text_data = []\n",
        "\n",
        "for div in soup.find_all(\"p\"):\n",
        "    text_data.append(div.get_text())\n",
        "\n",
        "# print(text_data[20])"
      ],
      "metadata": {
        "id": "KTcuDON_CwTi"
      },
      "execution_count": null,
      "outputs": []
    },
    {
      "cell_type": "code",
      "source": [
        "# Initialize an empty DataFrame to store the text data\n",
        "df = pd.DataFrame({\"Title\": text_data})\n",
        "\n",
        "# Choose the column containing the text data you want to encode\n",
        "text_column_name = \"Title\"\n",
        "\n",
        "# Get the number of rows in your DataFrame\n",
        "num_rows = len(df)\n",
        "\n",
        "# Initialize an empty array to store the encoded vectors\n",
        "encoded_data = np.empty((0, 512))  # Assuming USE model returns vectors of size 512"
      ],
      "metadata": {
        "id": "2DHTyiJqSoo6"
      },
      "execution_count": null,
      "outputs": []
    },
    {
      "cell_type": "code",
      "source": [
        "# Set the batch size based on available memory and performance considerations\n",
        "batch_size = 99\n",
        "\n",
        "# Loop through the dataset in batches and encode the text\n",
        "for start in range(0, num_rows, batch_size):\n",
        "    end = min(start + batch_size, num_rows)\n",
        "    batch_texts = df[text_column_name][start:end].tolist()\n",
        "\n",
        "    # Encode the batch of text\n",
        "    batch_encoded = batch_encode_text(batch_texts, batch_size=batch_size)\n",
        "\n",
        "    # Append the encoded batch to the result\n",
        "    encoded_data = np.vstack((encoded_data, batch_encoded))\n",
        "    print(encoded_data)\n",
        "\n",
        "# Now, encoded_data contains the encoded vectors for the text data obtained from the web page\n"
      ],
      "metadata": {
        "colab": {
          "base_uri": "https://localhost:8080/"
        },
        "id": "xurpkvIJSrxu",
        "outputId": "3b206f5e-f734-407a-ca40-c6579aa3da4e"
      },
      "execution_count": null,
      "outputs": [
        {
          "output_type": "stream",
          "name": "stdout",
          "text": [
            "[[-0.01408162 -0.06514768 -0.0631865  ... -0.06899547  0.02465326\n",
            "  -0.06966335]\n",
            " [-0.03210635 -0.0626885  -0.00278336 ... -0.03495861  0.03281365\n",
            "  -0.0749908 ]\n",
            " [ 0.00387092 -0.05773959 -0.00181855 ... -0.01471864 -0.04654043\n",
            "  -0.08436348]\n",
            " ...\n",
            " [-0.05163694 -0.07826692 -0.00638289 ... -0.06691641  0.07477357\n",
            "  -0.08397678]\n",
            " [-0.06667349  0.00766938 -0.02188736 ... -0.04404028 -0.0505691\n",
            "  -0.0318731 ]\n",
            " [-0.06949051 -0.06613951  0.03548685 ... -0.00521331 -0.01603429\n",
            "  -0.08428316]]\n"
          ]
        }
      ]
    },
    {
      "cell_type": "code",
      "source": [
        "# Create a DataFrame from the encoded data\n",
        "encoded_df = pd.DataFrame(encoded_data)\n",
        "\n",
        "# Save the DataFrame to a CSV file\n",
        "encoded_df.to_csv(\"encoded_data.csv\", index=True)"
      ],
      "metadata": {
        "id": "b0UBbngRjMhU"
      },
      "execution_count": null,
      "outputs": []
    },
    {
      "cell_type": "code",
      "source": [
        "querry = [\"Tôi cần nhà ở Anaheim, chấp nhận housing.\"]\n",
        "querry_vectors = embed(querry)\n",
        "# print(querry_vectors)"
      ],
      "metadata": {
        "id": "FDBmsScijYKF"
      },
      "execution_count": null,
      "outputs": []
    },
    {
      "cell_type": "code",
      "source": [
        "# Display the path to the saved CSV file\n",
        "# print(encoded_df)\n",
        "\n",
        "from sklearn.metrics.pairwise import cosine_similarity\n",
        "# print(text_data[0])\n",
        "# Calculate cosine similarity between two vectors\n",
        "for i in range(len(encoded_data)):\n",
        "  similarity = cosine_similarity([querry_vectors[0]], [encoded_data[i]])\n",
        "  if similarity[0][0] > 0.35: print(i, text_data[i])"
      ],
      "metadata": {
        "colab": {
          "base_uri": "https://localhost:8080/"
        },
        "id": "HHy3Nw6TjddV",
        "outputId": "29d32ac5-529b-41d8-8702-7c0d92cef757"
      },
      "execution_count": null,
      "outputs": [
        {
          "output_type": "stream",
          "name": "stdout",
          "text": [
            "0  NhÃ  Anaheim gáº§n chÃ¹a DÆ°á»£c SÆ° 3PN/2PT. 1,386sqft má»i Remodeled. Garage 2 xe vá»i Driveway rá»ng. Housing ok.  Khu an ninh sáº¡ch, central AC, Heat. Housing OK. $3,400 thÃ¡ng. 714-726-2429\n",
            "23  NHÃ HOUSE BOLSA/ MAGNOLIA. Má»i remodeled, gáº§n PhÆ°á»c Lá»c Thá», chá»£ ABC, khu yÃªn tÄ©nh. 4PN/2PT W/Central AC. Dá»n vÃ o liá»n. $3,900/thÃ¡ng (Nháº­n Housing). L/L: TRANG 714-397-2722\n",
            "28  NhÃ  Anaheim 4PN/2PT, garage 2 xe, Brookhurst, remodel toÃ n diá»n, $3,700/thÃ¡ng + deposit. Check income, credit. Nháº­n housing. Dá»n vÃ o ngay.L/L: Harry 714-315-4789, My Le 714-582-1885\n",
            "49  ANAHEIM GÃ³c Euclid/ Orangewood. FOURPLEX 2PN/2PT, Patio. HÃ²an tÃ²an tÃ¢n trang, cÃ³ chá» Äá» mÃ¡y giáº·t sáº¥y. NhÃ  lÃ³t gáº¡ch, gá», cÃ³ garage. Nháº­n Housing. L/L: ALLEN 714-335-2222\n",
            "62  REDLANDS, cÃ¡ch Downtowwn 1 mile, cÃ¡ch San Bernardino 14 miles. Only Housing Section 8, 4-Plex, 3PN/1 or 2PT $2,750/mo, 2PN/2PT $2,350/mo. Bao nÆ°á»c rÃ¡c, L/L: TÃ i 909-362-0610.\n"
          ]
        }
      ]
    }
  ]
}